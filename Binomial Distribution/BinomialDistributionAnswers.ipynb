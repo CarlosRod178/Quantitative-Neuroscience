{
 "metadata": {
  "language_info": {
   "codemirror_mode": {
    "name": "ipython",
    "version": 3
   },
   "file_extension": ".py",
   "mimetype": "text/x-python",
   "name": "python",
   "nbconvert_exporter": "python",
   "pygments_lexer": "ipython3",
   "version": 3
  },
  "orig_nbformat": 2
 },
 "nbformat": 4,
 "nbformat_minor": 2,
 "cells": [
  {
   "source": [
    "## Bionmial Distributions\n",
    "Answers to exercises\n",
    "\n",
    "Copyright 2019 by Joshua I. Gold, University of Pennsylvania\n",
    "    Created 09/21/18\n",
    "    Updated 12/31/19\n",
    "    Ported to Python 03/29/21"
   ],
   "cell_type": "markdown",
   "metadata": {}
  },
  {
   "cell_type": "code",
   "execution_count": null,
   "metadata": {},
   "outputs": [],
   "source": [
    "import platform\n",
    "\n",
    "# Output on system used for development/testing:\n",
    "# 3.9.2\n",
    "print(platform.python_version())\n",
    "\n",
    "# Uncomment and run to clear workspace\n",
    "# %reset"
   ]
  },
  {
   "cell_type": "code",
   "execution_count": null,
   "metadata": {},
   "outputs": [],
   "source": [
    "import numpy as np\n",
    "\n",
    "# Exercise 1\n",
    "# Note that omitting the semicolon at the end of a line causes the output to be shown in the Command Window.\n",
    "n = 10                        # Number of available quanta\n",
    "pRelease = 0.2                # Release probabilty \n",
    "k = np.arange(11)             # Possible values of k (measured events)\n",
    "probs = binopdf(k,n,pRelease) # Array of probabilities of obtaining those values of k, given n and prelease\n"
   ]
  }
 ]
}