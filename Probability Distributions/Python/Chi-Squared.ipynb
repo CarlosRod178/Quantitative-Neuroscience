{
 "cells": [
  {
   "cell_type": "markdown",
   "metadata": {},
   "source": [
    "[![Open In Colab](https://colab.research.google.com/assets/colab-badge.svg)](https://colab.research.google.com/github/PennNGG/Quantitative-Neuroscience/blob/master/Probability%20Distributions/Python/Chi%2dSquared.ipynb)"
   ]
  },
  {
   "cell_type": "markdown",
   "metadata": {
    "id": "pKIiY6p3GRFq"
   },
   "source": [
    "# Definition"
   ]
  },
  {
   "cell_type": "markdown",
   "metadata": {
    "id": "x7VmLUr5GTNw"
   },
   "source": [
    "The chi-squared ($\\chi^2$) distribution describes the distribution of the sum of squares of [independent](https://github.com/PennNGG/Quantitative-Neuroscience/blob/master/Concepts/Independence%20and%20Lack%20Thereof.ipynb), [standard normal](https://github.com/PennNGG/Quantitative-Neuroscience/blob/master/Probability%20Distributions/Python/Gaussian%20(Normal).ipynb) random variables. \n",
    "\n",
    "If $Y_i$ are *k* independent random variables, each of which follows a standard normal distribution (i.e., $\\mu=0, \\sigma=1$), then the sum of their squares follows a $\\chi^2$ distribution:\n",
    "\n",
    "$\\quad \\chi^2=\\sum\\limits_{i=1}^k Y_i^2$\n",
    "\n",
    "with *k* degrees of freedom (which means that technically $\\chi^2$ is, like the [*t* distribution](https://github.com/PennNGG/Quantitative-Neuroscience/blob/master/Probability%20Distributions/Python/Student%20t.ipynb), a family of distributions with different shapes that depend on the degree of freedom). Technically, this distribution is a [gamma distribution](https://mathworld.wolfram.com/GammaDistribution.html) with $\\theta \\equiv 2$ and $\\alpha \\equiv k/2$."
   ]
  },
  {
   "cell_type": "markdown",
   "metadata": {},
   "source": [
    "# Uses"
   ]
  },
  {
   "cell_type": "markdown",
   "metadata": {},
   "source": [
    "The primary use that we will consider is in the analysis of [proportions](https://github.com/PennNGG/Quantitative-Neuroscience/blob/master/Hypothesis%20Testing/Python/Proportions.ipynb)."
   ]
  },
  {
   "cell_type": "markdown",
   "metadata": {
    "id": "UqoNXyuxP-go"
   },
   "source": [
    "# Additional Resources\n",
    "\n",
    "Working with the $\\chi^2$ distribution in [Matlab](https://www.mathworks.com/help/stats/chi-square-distribution.html), [R](https://cran.r-project.org/web/packages/chisquare/index.html), and [Python](https://docs.scipy.org/doc/scipy/reference/generated/scipy.stats.chisquare.html)."
   ]
  },
  {
   "cell_type": "markdown",
   "metadata": {
    "id": "tteEm2Qlgbb3"
   },
   "source": [
    "# Credits\n",
    "\n",
    "Copyright 2025 by Joshua I. Gold, University of Pennsylvania"
   ]
  }
 ],
 "metadata": {
  "colab": {
   "authorship_tag": "ABX9TyPunk24bQtSl0xgjD36EO28",
   "collapsed_sections": [],
   "name": "Student's t Distribution",
   "provenance": [
    {
     "file_id": "1-KxH3FCq5rDyyO33HXxewIv-kKldkINi",
     "timestamp": 1626271088984
    },
    {
     "file_id": "14S2ca44h8TKC1hFXjk5ktwBYpGU6R5S-",
     "timestamp": 1624411796822
    }
   ],
   "toc_visible": true
  },
  "kernelspec": {
   "display_name": "base",
   "language": "python",
   "name": "python3"
  },
  "language_info": {
   "codemirror_mode": {
    "name": "ipython",
    "version": 3
   },
   "file_extension": ".py",
   "mimetype": "text/x-python",
   "name": "python",
   "nbconvert_exporter": "python",
   "pygments_lexer": "ipython3",
   "version": "3.13.5"
  }
 },
 "nbformat": 4,
 "nbformat_minor": 0
}
