{
 "cells": [
  {
   "cell_type": "markdown",
   "metadata": {
    "id": "pKIiY6p3GRFq"
   },
   "source": [
    "# Definitions"
   ]
  },
  {
   "cell_type": "markdown",
   "metadata": {
    "id": "x7VmLUr5GTNw"
   },
   "source": [
    "A **parametric** statistical test assumes that the data you are analyzing come from a specific probability distribution that is defined by a finite set of parameters. In many cases (but definitely not always!), the assumed distribution is a [Gaussian distribution](https://github.com/PennNGG/Quantitative-Neuroscience/blob/master/Probability%20Distributions/Python/Gaussian%20(Normal).ipynb), which because of the [Central Limit Theorem](https://statisticsbyjim.com/basics/central-limit-theorem/) describes the distribution of sample means that are often the target of statistical inference (but still require [corrections](https://github.com/PennNGG/Quantitative-Neuroscience/blob/master/Hypothesis%20Testing/Parametric%20assumptions%20and%20corrections.ipynb) when working with samples, as opposed to the true population).\n",
    "\n",
    "Advantages of these approaches are that they: 1) tend to be more powerful (require smaller sample sizes) than non-parametric tests for identifying a \"real\" effect if it is in fact present, and 2) are derived analytically and thus have well-understood properties. Examples of standard parametric tests are the [Student's *t*-test](https://github.com/PennNGG/Quantitative-Neuroscience/blob/master/Hypothesis%20Testing/Python/t-Tests.ipynb), which is used to determine if the means of two data sets that both are distributed as a Gaussian and have equal variances, and the [Analysis of Variance (ANOVA)](https://github.com/PennNGG/Quantitative-Neuroscience/blob/master/Hypothesis%20Testing/ANOVA.ipynb), which in its simplest form is an extension of the *t*-test that can be used to identify differences in means associated with two or more categorical groupings of a given Gaussian-distributed data set.\n",
    "\n",
    "A **nonparametric** statistical test does not assume that the data you are analyzing come from a specific probability distribution. Advantages of these approaches are that they: 1) are appropriate when you do not know the distribution that your data come from, and 2) are more robust with respect to outliers. Examples of standard [nonparametric tests](https://github.com/PennNGG/Quantitative-Neuroscience/blob/master/Hypothesis%20Testing/Python/Simple%20Non-Parametric%20Tests.ipynb) are the Mann-Whitney U-test, which is used to compare the medians of two data sets, and the Kruskal-Wallis test, which is a nonparametric form of ANOVA that is used to test if two distributions are different.\n",
    "\n",
    "[This article from Nature Neuroscience](https://www.nature.com/articles/nn0205-123) describes certain common conditions that require choosing between these two different approaches:\n",
    "\n",
    "\"Another common error is the failure to recognize that most parametric tests require the data to be normally distributed. If this assumption is not valid for a particular data set, a nonparametric test should be used instead. Another point that is less widely recognized is that ANOVAs require approximately equal variance across the different groups or conditions examined. If this assumption is violated (as it frequently is, because variance often scales with the mean), a nonparametric test or appropriate transformation of the data is necessary.\""
   ]
  },
  {
   "cell_type": "markdown",
   "metadata": {
    "id": "tteEm2Qlgbb3"
   },
   "source": [
    "# Credits\n",
    "\n",
    "Copyright 2021 by Joshua I. Gold, University of Pennsylvania"
   ]
  }
 ],
 "metadata": {
  "colab": {
   "authorship_tag": "ABX9TyMBwE1Q4isWm23OF2Xn7TbD",
   "collapsed_sections": [
    "pKIiY6p3GRFq"
   ],
   "name": "Parametric Versus Nonparametric Statistics",
   "provenance": [
    {
     "file_id": "1YFwKKkWUjtV6_Nx2upNpFYHJNeXIeQB6",
     "timestamp": 1626289194483
    },
    {
     "file_id": "1R26jZt5UmttyMWS2Aucb-wD-JSRBDYPt",
     "timestamp": 1626288328004
    },
    {
     "file_id": "1-KxH3FCq5rDyyO33HXxewIv-kKldkINi",
     "timestamp": 1626274090141
    },
    {
     "file_id": "14S2ca44h8TKC1hFXjk5ktwBYpGU6R5S-",
     "timestamp": 1624411796822
    }
   ],
   "toc_visible": true
  },
  "kernelspec": {
   "display_name": "Python 3",
   "name": "python3"
  },
  "language_info": {
   "name": "python"
  }
 },
 "nbformat": 4,
 "nbformat_minor": 0
}
