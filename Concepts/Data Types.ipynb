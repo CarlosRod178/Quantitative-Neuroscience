{
 "cells": [
  {
   "cell_type": "markdown",
   "metadata": {
    "id": "pKIiY6p3GRFq"
   },
   "source": [
    "# Definitions"
   ]
  },
  {
   "cell_type": "markdown",
   "metadata": {
    "id": "x7VmLUr5GTNw"
   },
   "source": [
    "See [here](https://github.com/PennNGG/Quantitative-Neuroscience/blob/master/Probability%20Distributions/Overview.ipynb)."
   ]
  },
  {
   "cell_type": "markdown",
   "metadata": {
    "id": "tteEm2Qlgbb3"
   },
   "source": [
    "# Credits\n",
    "\n",
    "Copyright 2021 by Joshua I. Gold, University of Pennsylvania"
   ]
  }
 ],
 "metadata": {
  "colab": {
   "authorship_tag": "ABX9TyMBwE1Q4isWm23OF2Xn7TbD",
   "collapsed_sections": [
    "pKIiY6p3GRFq"
   ],
   "name": "Parametric Versus Nonparametric Statistics",
   "provenance": [
    {
     "file_id": "1YFwKKkWUjtV6_Nx2upNpFYHJNeXIeQB6",
     "timestamp": 1626289194483
    },
    {
     "file_id": "1R26jZt5UmttyMWS2Aucb-wD-JSRBDYPt",
     "timestamp": 1626288328004
    },
    {
     "file_id": "1-KxH3FCq5rDyyO33HXxewIv-kKldkINi",
     "timestamp": 1626274090141
    },
    {
     "file_id": "14S2ca44h8TKC1hFXjk5ktwBYpGU6R5S-",
     "timestamp": 1624411796822
    }
   ],
   "toc_visible": true
  },
  "kernelspec": {
   "display_name": "Python 3",
   "name": "python3"
  },
  "language_info": {
   "name": "python"
  }
 },
 "nbformat": 4,
 "nbformat_minor": 0
}
