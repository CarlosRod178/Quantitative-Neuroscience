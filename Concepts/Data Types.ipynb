{
 "cells": [
  {
   "cell_type": "markdown",
   "metadata": {
    "id": "pKIiY6p3GRFq"
   },
   "source": [
    "# Definitions"
   ]
  },
  {
   "cell_type": "markdown",
   "metadata": {
    "id": "x7VmLUr5GTNw"
   },
   "source": [
    "In statistics, it is important to know what kind of data you are working with. Here, because this is a course in quantitative neuroscience, we assume that we are working with quantitative variables (i.e., numerical variables that describe quantities or amounts, as opposed to qualitative variables that describe other characteristics). These variables are typically divided into two categories:\n",
    "\n",
    "1. **Discrete variables** can take on only a finite number of specific, countable values.\n",
    "   Examples: number of quantal release events at a synapse, yes/no outcomes of a behavioral task\n",
    "   Example distributions: [Bernoulli[(https://github.com/PennNGG/Quantitative-Neuroscience/blob/master/Probability%20Distributions/Python/Bernoulli.ipynb)], [Binomial](https://github.com/PennNGG/Quantitative-Neuroscience/blob/master/Probability%20Distributions/Python/Binomial.ipynb), [Poisson](https://github.com/PennNGG/Quantitative-Neuroscience/blob/master/Probability%20Distributions/Python/Exponential.ipynb), \n",
    "   Example hypothesis tests: [chi-square tests of proportions]()\n",
    "\n",
    "2. **Continuous variables** can take on, in principle, an infinite number of values within a range\n",
    "   Examples: length of an axon, spike rate of a neuron\n",
    "   Example distributions: [Chi-squared](https://github.com/PennNGG/Quantitative-Neuroscience/blob/master/Probability%20Distributions/Python/Chi-Squared.ipynb), [Exponential](https://github.com/PennNGG/Quantitative-Neuroscience/blob/master/Probability%20Distributions/Python/Exponential.ipynb), [Gaussian](https://github.com/PennNGG/Quantitative-Neuroscience/blob/master/Probability%20Distributions/Python/Exponential.ipynb), [Student's t](https://github.com/PennNGG/Quantitative-Neuroscience/blob/master/Probability%20Distributions/Python/Exponential.ipynb) \n",
    "   Example hypothesis tests: [t-test](https://github.com/PennNGG/Quantitative-Neuroscience/blob/master/Hypothesis%20Testing/Python/t-Tests.ipynb)\n"
   ]
  },
  {
   "cell_type": "markdown",
   "metadata": {
    "id": "tteEm2Qlgbb3"
   },
   "source": [
    "# Credits\n",
    "\n",
    "Copyright 2021 by Joshua I. Gold, University of Pennsylvania"
   ]
  }
 ],
 "metadata": {
  "colab": {
   "authorship_tag": "ABX9TyMBwE1Q4isWm23OF2Xn7TbD",
   "collapsed_sections": [
    "pKIiY6p3GRFq"
   ],
   "name": "Parametric Versus Nonparametric Statistics",
   "provenance": [
    {
     "file_id": "1YFwKKkWUjtV6_Nx2upNpFYHJNeXIeQB6",
     "timestamp": 1626289194483
    },
    {
     "file_id": "1R26jZt5UmttyMWS2Aucb-wD-JSRBDYPt",
     "timestamp": 1626288328004
    },
    {
     "file_id": "1-KxH3FCq5rDyyO33HXxewIv-kKldkINi",
     "timestamp": 1626274090141
    },
    {
     "file_id": "14S2ca44h8TKC1hFXjk5ktwBYpGU6R5S-",
     "timestamp": 1624411796822
    }
   ],
   "toc_visible": true
  },
  "kernelspec": {
   "display_name": "Python 3",
   "name": "python3"
  },
  "language_info": {
   "name": "python"
  }
 },
 "nbformat": 4,
 "nbformat_minor": 0
}
