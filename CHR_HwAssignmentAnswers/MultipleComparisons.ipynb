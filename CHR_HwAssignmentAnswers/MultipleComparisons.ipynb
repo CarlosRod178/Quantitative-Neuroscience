{
  "nbformat": 4,
  "nbformat_minor": 0,
  "metadata": {
    "colab": {
      "provenance": [],
      "toc_visible": true
    },
    "kernelspec": {
      "name": "python3",
      "display_name": "Python 3"
    },
    "language_info": {
      "name": "python"
    }
  },
  "cells": [
    {
      "cell_type": "code",
      "metadata": {
        "colab": {
          "base_uri": "https://localhost:8080/"
        },
        "id": "25147e6b",
        "outputId": "069b3cce-5373-43df-8ba3-087698f6fa26"
      },
      "source": [
        "# Read the content of the MATLAB file\n",
        "with open('/content/MultipleComparisons.m', 'r') as f:\n",
        "    matlab_code = f.read()\n",
        "\n",
        "print(\"MATLAB code:\")\n",
        "print(matlab_code)"
      ],
      "execution_count": 1,
      "outputs": [
        {
          "output_type": "stream",
          "name": "stdout",
          "text": [
            "MATLAB code:\n",
            "%% Mutliple Comparisons\n",
            "%% Parts 1 and 2\n",
            "% The results from the Bonferroni are consistently smaller than those of either \n",
            "% the uncorrected form or the Benjamini-Hochberg form, in agreement with its conservative \n",
            "% nature. This difference seems to extend as the distance between mu increases.\n",
            "\n",
            "% Code taken from tutorial values\n",
            "MU1 = 1;\n",
            "MU2 = 2;\n",
            "SIGMA = 2;\n",
            "alpha = 0.05;\n",
            "\n",
            "% Get random samples, same n\n",
            "sampSize = 100;\n",
            "n = 1000;\n",
            "pU = ones(1,length(n));\n",
            "X1 = normrnd(MU1, SIGMA, sampSize, n);\n",
            "X2 = normrnd(MU2, SIGMA, sampSize, n);\n",
            "\n",
            "% Calculate values from ttest\n",
            "[~,pU] = ttest2(X1, X2);\n",
            "\n",
            "% Determine the proportion of results that fall below desired alpha value\n",
            "statSigpU = sum(pU<alpha) / length(pU) * 100;\n",
            "fprintf('percent significant %.2f%% (baseline)', statSigpU)\n",
            "\n",
            "% Apply the Bonferroni correction\n",
            "alphaB = alpha/n;\n",
            "statSigpU_B = sum(pU<alphaB) / length(pU) * 100;\n",
            "fprintf('percent significant %.2f%% (Bonferroni)', statSigpU_B)\n",
            "\n",
            "% Apply the Benjamini-Hochberg correction\n",
            "qBH = alpha;\n",
            "sortedpU = sort(pU);\n",
            "critVals = (1:length(sortedpU)) ./n .* qBH;\n",
            "\n",
            "% Locate the index for the last critical value that is less than or equal\n",
            "% to its associated ranked p value. Throw sanity check to make sure within\n",
            "% brackets, then make the new criterion value.\n",
            "newCritIndex = find(sortedpU <= critVals, 1, 'last');\n",
            "if isempty(newCritIndex) | newCritIndex <= 0\n",
            "    % Flags instances when there is no satisfied ranked p less than its\n",
            "    % associated critical value. \n",
            "    disp('No significant values found')\n",
            "else\n",
            "    alphaBH = sortedpU(newCritIndex);\n",
            "    statSigpU_BH = sum(pU<alphaBH) / length(pU) * 100;\n",
            "    fprintf('percent significant %.2f%% (Benjamini-Hochberg)', statSigpU_BH)\n",
            "end\n"
          ]
        }
      ]
    },
    {
      "cell_type": "code",
      "metadata": {
        "colab": {
          "base_uri": "https://localhost:8080/"
        },
        "id": "c3e29480",
        "outputId": "63b3e3f8-7ac2-4736-fe92-8a3dfb528f48"
      },
      "source": [
        "import numpy as np\n",
        "from scipy.stats import ttest_ind\n",
        "\n",
        "# Code taken from tutorial values\n",
        "MU1 = 1\n",
        "MU2 = 2\n",
        "SIGMA = 2\n",
        "alpha = 0.05\n",
        "\n",
        "# Get random samples, same n\n",
        "sampSize = 100\n",
        "n = 1000\n",
        "pU = np.ones(n)\n",
        "X1 = np.random.normal(MU1, SIGMA, size=(sampSize, n))\n",
        "X2 = np.random.normal(MU2, SIGMA, size=(sampSize, n))\n",
        "\n",
        "# Calculate values from ttest\n",
        "# The ttest_ind function in scipy returns a tuple of (statistic, pvalue)\n",
        "# We are only interested in the pvalue, which is the second element\n",
        "statistic, pU = ttest_ind(X1, X2)\n",
        "\n",
        "# Determine the proportion of results that fall below desired alpha value\n",
        "statSigpU = np.sum(pU < alpha) / len(pU) * 100\n",
        "print(f'percent significant {statSigpU:.2f}% (baseline)')\n",
        "\n",
        "# Apply the Bonferroni correction\n",
        "alphaB = alpha / n\n",
        "statSigpU_B = np.sum(pU < alphaB) / len(pU) * 100\n",
        "print(f'percent significant {statSigpU_B:.2f}% (Bonferroni)')\n",
        "\n",
        "# Apply the Benjamini-Hochberg correction\n",
        "qBH = alpha\n",
        "sortedpU = np.sort(pU)\n",
        "critVals = (np.arange(1, len(sortedpU) + 1) / n) * qBH\n",
        "\n",
        "# Locate the index for the last critical value that is less than or equal\n",
        "# to its associated ranked p value. Throw sanity check to make sure within\n",
        "# brackets, then make the new criterion value.\n",
        "newCritIndex = np.where(sortedpU <= critVals)[0]\n",
        "\n",
        "if newCritIndex.size == 0:\n",
        "    # Flags instances when there is no satisfied ranked p less than its\n",
        "    # associated critical value.\n",
        "    print('No significant values found')\n",
        "else:\n",
        "    alphaBH = sortedpU[newCritIndex[-1]]\n",
        "    statSigpU_BH = np.sum(pU < alphaBH) / len(pU) * 100\n",
        "    print(f'percent significant {statSigpU_BH:.2f}% (Benjamini-Hochberg)')"
      ],
      "execution_count": 10,
      "outputs": [
        {
          "output_type": "stream",
          "name": "stdout",
          "text": [
            "percent significant 93.50% (baseline)\n",
            "percent significant 27.40% (Bonferroni)\n",
            "percent significant 92.90% (Benjamini-Hochberg)\n"
          ]
        }
      ]
    }
  ]
}