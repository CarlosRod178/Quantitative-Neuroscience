{
 "cells": [
  {
   "cell_type": "code",
   "execution_count": 10,
   "metadata": {
    "colab": {
     "base_uri": "https://localhost:8080/"
    },
    "id": "c3e29480",
    "outputId": "63b3e3f8-7ac2-4736-fe92-8a3dfb528f48"
   },
   "outputs": [
    {
     "name": "stdout",
     "output_type": "stream",
     "text": [
      "percent significant 93.50% (baseline)\n",
      "percent significant 27.40% (Bonferroni)\n",
      "percent significant 92.90% (Benjamini-Hochberg)\n"
     ]
    }
   ],
   "source": [
    "import numpy as np\n",
    "from scipy.stats import ttest_ind\n",
    "\n",
    "# Code taken from tutorial values\n",
    "MU1 = 1\n",
    "MU2 = 2\n",
    "SIGMA = 2\n",
    "alpha = 0.05\n",
    "\n",
    "# Get random samples, same n\n",
    "sampSize = 100\n",
    "n = 1000\n",
    "pU = np.ones(n)\n",
    "X1 = np.random.normal(MU1, SIGMA, size=(sampSize, n))\n",
    "X2 = np.random.normal(MU2, SIGMA, size=(sampSize, n))\n",
    "\n",
    "# Calculate values from ttest\n",
    "# The ttest_ind function in scipy returns a tuple of (statistic, pvalue)\n",
    "# We are only interested in the pvalue, which is the second element\n",
    "statistic, pU = ttest_ind(X1, X2)\n",
    "\n",
    "# Determine the proportion of results that fall below desired alpha value\n",
    "statSigpU = np.sum(pU < alpha) / len(pU) * 100\n",
    "print(f'percent significant {statSigpU:.2f}% (baseline)')\n",
    "\n",
    "# Apply the Bonferroni correction\n",
    "alphaB = alpha / n\n",
    "statSigpU_B = np.sum(pU < alphaB) / len(pU) * 100\n",
    "print(f'percent significant {statSigpU_B:.2f}% (Bonferroni)')\n",
    "\n",
    "# Apply the Benjamini-Hochberg correction\n",
    "qBH = alpha\n",
    "sortedpU = np.sort(pU)\n",
    "critVals = (np.arange(1, len(sortedpU) + 1) / n) * qBH\n",
    "\n",
    "# Locate the index for the last critical value that is less than or equal\n",
    "# to its associated ranked p value. Throw sanity check to make sure within\n",
    "# brackets, then make the new criterion value.\n",
    "newCritIndex = np.where(sortedpU <= critVals)[0]\n",
    "\n",
    "if newCritIndex.size == 0:\n",
    "    # Flags instances when there is no satisfied ranked p less than its\n",
    "    # associated critical value.\n",
    "    print('No significant values found')\n",
    "else:\n",
    "    alphaBH = sortedpU[newCritIndex[-1]]\n",
    "    statSigpU_BH = np.sum(pU < alphaBH) / len(pU) * 100\n",
    "    print(f'percent significant {statSigpU_BH:.2f}% (Benjamini-Hochberg)')"
   ]
  }
 ],
 "metadata": {
  "colab": {
   "provenance": [],
   "toc_visible": true
  },
  "kernelspec": {
   "display_name": "Python 3 (ipykernel)",
   "language": "python",
   "name": "python3"
  },
  "language_info": {
   "codemirror_mode": {
    "name": "ipython",
    "version": 3
   },
   "file_extension": ".py",
   "mimetype": "text/x-python",
   "name": "python",
   "nbconvert_exporter": "python",
   "pygments_lexer": "ipython3",
   "version": "3.13.5"
  }
 },
 "nbformat": 4,
 "nbformat_minor": 4
}
