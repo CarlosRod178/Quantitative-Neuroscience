{
 "cells": [
  {
   "cell_type": "markdown",
   "metadata": {},
   "source": [
    "[![Open In Colab](https://colab.research.google.com/assets/colab-badge.svg)](https://colab.research.google.com/github/PennNGG/Quantitative-Neuroscience/blob/master/Hypothesis%20Testing/Python/Exact%20Binomial%20Test.ipynb)"
   ]
  },
  {
   "cell_type": "markdown",
   "metadata": {
    "id": "pKIiY6p3GRFq"
   },
   "source": [
    "# Definitions"
   ]
  },
  {
   "cell_type": "markdown",
   "metadata": {
    "id": "x7VmLUr5GTNw"
   },
   "source": [
    "The exact binomial test is a test of the statistical significance of a null hypothesis about the probability of success of a series of [Bernoulli trials](https://colab.research.google.com/drive/1h5EoxuqTrJGylVdRNCo0MzRPkr2JE_cH?usp=sharing), which are individual binary outcomes that each have a success probability of *p* (also called $\\pi$). For example, if you flip a coin 10 times, what is the probability that it will come up heads 0, 1, 2, ... 10 times? Here we focus on the more common, one-sample version of this test, which uses a frequentist approach to determine the probability (i.e., the *p*-value) that you would have obtained your data given a null hypothesis that specifies a particular value of the probability, *p*, used to parameterize the [binomial distribution](https://colab.research.google.com/drive/1q1KaEjkAzUKRFSLPQ0SFdqU_byc70Oi2?usp=sharing).\n",
    "\n",
    "To use this test:\n",
    "\n",
    "1\\. **Specify the Null ($H_0$) and Alternative ($H_1$) hypotheses**.\n",
    "\n",
    "2\\. **Determine the appropriate test statistic**. In this case, it is just the number of successes (*k*) in the n Bernoulli trials that you tested.\n",
    "\n",
    "3\\. **Determine the probability distributions of the statistic under the chance model, as determined by the Null Hypothesis**. In this case, we assume that the number of successes is distributed according to the binomial distribution, given a Null Hypothesis about the value of p; i.e., $H_0: p=$ a particular value.\n",
    "\n",
    "4\\. **Compare the observed statistic to its distribution under the chance model to determine the strength of evidence, or *p*-value**. That is, determine the probability of obtaining the measured value of *k* (or any value greater than or equal to *k*, or less than or equal to *k*, depending on the question you are asking), given the binomial distribution computed using the assumed value of *p* and the same value of *n* that was used in the experiment. "
   ]
  },
  {
   "cell_type": "markdown",
   "metadata": {
    "id": "5ULZKAuOBol4"
   },
   "source": [
    "\n",
    "# Getting started with code"
   ]
  },
  {
   "cell_type": "markdown",
   "metadata": {
    "id": "S57swuS-BwVO"
   },
   "source": [
    "Matlab code is found [here](https://github.com/PennNGG/Quantitative-Neuroscience/blob/master/Hypothesis%20Testing/Matlab/ExactBinomialTest.m)\n",
    "\n",
    "Python code is included below. First run the code cell just below to make sure all of the required Python modules are loaded, then you can run the other cell(s)."
   ]
  },
  {
   "cell_type": "code",
   "execution_count": null,
   "metadata": {
    "id": "CjqTNogqBtUX"
   },
   "outputs": [],
   "source": [
    "import numpy as np\n",
    "from scipy.stats import binom\n",
    "import matplotlib.pyplot as plt"
   ]
  },
  {
   "cell_type": "markdown",
   "metadata": {
    "id": "nvmWeSSHSF95"
   },
   "source": [
    "# Neuroscience example: Progression of symptoms in Alzheimer's Disease"
   ]
  },
  {
   "cell_type": "markdown",
   "metadata": {
    "id": "bki88QRVSaj8"
   },
   "source": [
    "Godbolt, A.K., et al (2004). [The Natural History of Alzheimer Disease: A Longitudinal Presymptomatic and Symptomatic Study of a Familial Cohort](https://pubmed.ncbi.nlm.nih.gov/15534185/). \n",
    "\n",
    "This study aimed to characterize the progression of cognitive deficits in familial Alzheimer's disease. It is of interest here because, as noted in the Abstract, \"The relative timing of the occurrence of 3 markers of disease onset and progression (onset of symptoms, Mini-Mental State Examination score ≤ 24, and impaired scores on a range of neuropsychological tests) were compared using the binomial exact test.\""
   ]
  },
  {
   "cell_type": "markdown",
   "metadata": {
    "id": "CHde_prQo0DC"
   },
   "source": [
    "## Exercise 1"
   ]
  },
  {
   "cell_type": "markdown",
   "metadata": {
    "id": "XEoDZS1ho13a"
   },
   "source": [
    "### Questions"
   ]
  },
  {
   "cell_type": "markdown",
   "metadata": {
    "id": "xRNj7RTZo6R8"
   },
   "source": [
    "1\\. What was the objective of the study? \n",
    "\n",
    "2\\. What was the population being studied?\n",
    "\n",
    "3\\. What was the sample that they used to make inferences about properties of the population?\n",
    "\n",
    "4\\. What data did they obtain from this sample?\n",
    "\n",
    "5\\. Are the data best described as continuous, categorical, or binary?\n",
    "\n",
    "6\\. What hypotheses were they testing using the \"binomial exact test\"? (note: this is the same as the \"exact binomial test)"
   ]
  },
  {
   "cell_type": "markdown",
   "metadata": {
    "id": "UIxCKn4Qo62a"
   },
   "source": [
    "### Answers"
   ]
  },
  {
   "cell_type": "markdown",
   "metadata": {
    "id": "L1Qd1TU_o8r6"
   },
   "source": [
    "1\\. The objective was \"To delineate the onset and progression of clinical and neuropsychological abnormalities in familial Alzheimer disease.\"\n",
    "\n",
    "2\\. The population being studied was all people with familial Alzheimer's disease, or possibly all people likely to have the disease now or some time in the future. \n",
    "\n",
    "3\\. The sample is described in the Abstract: \"Nineteen subjects with familial Alzheimer disease underwent serial clinical and neuropsychological assessments. Eight of these had undergone presymptomatic assessments.\" \n",
    "\n",
    "4\\. Data: \"Neuropsychological tests assessed intellectual functioning, current (Wechsler Adult Intelligence Scale Revised) and premorbid (National Adult Reading Test); verbal and visual recognition memory (Recognition Memory Test for Words and Faces); naming (Graded Naming Test); spelling (Oral Graded Difficulty Spelling Test); calculation (Graded Difficulty Arithmetic Test); and visuospatial and perceptual abilities (cube analysis and silhouettes from the Visual Object and Space Perception Battery).\"\n",
    "\n",
    "5\\. The data were continuous but converted to binary values (0=not imparied, 1=impaired) for further analyses: \"For all cognitive domains except intelligence, raw scores were converted into percentiles, referring to published normative data. Scores at or below the fifth percentile were taken to indicate an impairment. For intelligence, a difference of 10 or greater between the National Adult Reading Test and the performance or verbal IQ was considered an impairment.\"\n",
    "\n",
    "6\\. They used the binomial exact test to compare \"The relative timing of the occurrence of 3 markers of disease onset and progression (onset of  symptoms, Mini-Mental State Examination score ? 24, and impaired scores on a range of neuropsychological tests)\""
   ]
  },
  {
   "cell_type": "markdown",
   "metadata": {
    "id": "DKV6za1NpZZi"
   },
   "source": [
    "## Exercise 2"
   ]
  },
  {
   "cell_type": "markdown",
   "metadata": {
    "id": "FXl0AkgTpcPa"
   },
   "source": [
    "### Questions"
   ]
  },
  {
   "cell_type": "markdown",
   "metadata": {
    "id": "3QvWb3HMpd08"
   },
   "source": [
    "Consider the first entry of Table 2. \n",
    "\n",
    "1\\. What do the two numbers represent? \n",
    "\n",
    "2\\. How do these numbers relate to the parameters of a binomial distribution (*n*, *k*, and *p*)?\n",
    "\n",
    "3\\. What is being tested? \n",
    "\n",
    "4\\. What is the Null Hypothesis? \n",
    "\n",
    "5\\. What are the values of the binomial distribution under the Null Hypothesis? How well can you simulate the distribution using 10 coin flips? 100? 1000? 10000?\n",
    "\n",
    "6\\. How is the *p*-value (0.29) obtained? Why is it not just the probability of *k* successes in *n* trials given the Null Hypothesis on *p*?"
   ]
  },
  {
   "cell_type": "markdown",
   "metadata": {
    "id": "N8NeGTfLpeET"
   },
   "source": [
    "### Answers"
   ]
  },
  {
   "cell_type": "markdown",
   "metadata": {
    "id": "mtc0Pvp_peUj"
   },
   "source": [
    "1\\. Of 8 total patients, 6 showed deficits on the Recognition Memory Test - Words (RMT-W) before they were diagnosed with clinical onset of the disease as estimated by the year of the initial symptoms; 2 were diagnosed before showing RMT-W deficits.\n",
    "\n",
    "2\\. \n",
    "\n",
    "*n* = the number of \"trials\" (a generic term indiating the number of independent observations), which here is the number of patients = 6 + 2 = 8\n",
    "\n",
    "*k* = the number of \"successes\" (another generic term indicating the number of times that one of the independent observations had a particular binary outcome), which here is the number of patients with a particular deficit/event occurring first = either 6 or 2 (the fact that we can consider either alternative will be very important soon)\n",
    "\n",
    "*p* = the unknown, actual probability in the population that governs how often one deficit/event will occur first in a given individual with familial Alzheimer's Disease. Note that this \"p\" is different than the \"p-value\" we will obtain from the statistical test (both are probabilities, but they relate to different things).\n",
    "\n",
    "3\\. They are testing whether one or the other deficits/events occurred  before the other in a statistially reliable or \"significant\" manner. Again, note that the general form of this test (which is the one they consider) is that either order might occur.\n",
    "\n",
    "4\\. The Null Hypothesis is that neither deficit/event is more likely to  occur before or after the other. In terms of the binomial distribution, this hypothesis is equivalent to saying that the underlying probability that governs whether one occurs first is equal to 0.5, or \"$H_0: p=0.5$\".\n",
    "\n",
    "5\\. See code cell below.\n",
    "\n",
    "6\\. Here we are testing the probability that we would get at least the given number of \"successes\" if we assume that *p*=0.5. Because we did not define in advance the temporal ordering of the deficits/events we were testing, we are doing a \"two-tailed\" test: what is the probability that we would get at least 6 patients with RMT-W deficits appearing before clinical diagnosis onset, OR at least 6 patients with RMT-W deficits appearing after clinical diagnosis onset. By definition of the [bionmoial distribution](https://colab.research.google.com/drive/1q1KaEjkAzUKRFSLPQ0SFdqU_byc70Oi2?usp=sharing), this probability is just the sum of the probabilities associated with $X=0$ (i.e., 0 successes, 8 failures; or 8 times out of 8 patients that one of the events/deficits always happened first), $X=1, X=2, X=6, X=7$, and $X=8$.\n",
    "Specifically (from the probability distribution above):\n",
    "\n",
    "$p = 0.0039 + 0.0313 + 0.1094 + 0.1094 + 0.0313 + 0.0039 = 0.2892$"
   ]
  },
  {
   "cell_type": "code",
   "execution_count": null,
   "metadata": {
    "colab": {
     "base_uri": "https://localhost:8080/",
     "height": 418
    },
    "executionInfo": {
     "elapsed": 533,
     "status": "ok",
     "timestamp": 1626383121816,
     "user": {
      "displayName": "Joshua Gold",
      "photoUrl": "https://lh3.googleusercontent.com/a-/AOh14GhY1fK-mWt81XFeafwTBs66lN9JXee76x713d4Y=s64",
      "userId": "06476168460066594437"
     },
     "user_tz": 240
    },
    "id": "8jW2EB1ruf-u",
    "outputId": "88077c2e-5ad6-46b5-a476-e1cf0dd1056c"
   },
   "outputs": [
    {
     "name": "stdout",
     "output_type": "stream",
     "text": [
      "k=0: p(true)=0.0039, p(N=10)=0.0000, p(N=100)=0.0000, p(N=1000)=0.0050, p(N=10000)=0.0041\n",
      "k=1: p(true)=0.0313, p(N=10)=0.0000, p(N=100)=0.0300, p(N=1000)=0.0250, p(N=10000)=0.0329\n",
      "k=2: p(true)=0.1094, p(N=10)=0.3000, p(N=100)=0.0700, p(N=1000)=0.1090, p(N=10000)=0.1014\n",
      "k=3: p(true)=0.2188, p(N=10)=0.0000, p(N=100)=0.2100, p(N=1000)=0.2290, p(N=10000)=0.2238\n",
      "k=4: p(true)=0.2734, p(N=10)=0.1000, p(N=100)=0.2400, p(N=1000)=0.2880, p(N=10000)=0.2821\n",
      "k=5: p(true)=0.2188, p(N=10)=0.2000, p(N=100)=0.2700, p(N=1000)=0.2020, p(N=10000)=0.2166\n",
      "k=6: p(true)=0.1094, p(N=10)=0.3000, p(N=100)=0.1300, p(N=1000)=0.1140, p(N=10000)=0.1053\n",
      "k=7: p(true)=0.0313, p(N=10)=0.1000, p(N=100)=0.0500, p(N=1000)=0.0230, p(N=10000)=0.0293\n",
      "k=8: p(true)=0.0039, p(N=10)=0.0000, p(N=100)=0.0000, p(N=1000)=0.0050, p(N=10000)=0.0045\n"
     ]
    },
    {
     "data": {
      "image/png": "[encoded data removed]",
      "text/plain": [
       "<Figure size 432x288 with 1 Axes>"
      ]
     },
     "metadata": {
      "needs_background": "light",
      "tags": []
     },
     "output_type": "display_data"
    }
   ],
   "source": [
    "# Answer to Question 5\n",
    "\n",
    "# True pmf\n",
    "n = 8                       # Number of patients\n",
    "p_H0 = 0.5                  # Null Hypothesis: p=0.5\n",
    "k = np.arange(n+1)          # Possible values of k (measured events)\n",
    "probs = binom.pmf(k,n,p_H0) # Array of probabilities of obtaining those values of k, given n and prelease\n",
    "\n",
    "# Now simulate using 10, 100, 1000, 10000 trials\n",
    "counts_list = []\n",
    "for a in np.arange(1, 5):\n",
    "  N = int(10**a)\n",
    "  r = binom.rvs(n, p_H0, size=N)\n",
    "  counts, edges = np.histogram(r, bins=np.arange(-0.5,n+1.5))\n",
    "  probs = np.column_stack((probs, counts/N))\n",
    "\n",
    "# Print it nicely\n",
    "for A, B in zip(k, probs):\n",
    "    print(f'k={A:1d}: p(true)={B[0]:.4f}', end='')\n",
    "    [print(f', p(N={10**(ind+1)})={x:.4f}', end='') for ind, x in enumerate(B[1:])]\n",
    "    print('')\n",
    "\n",
    "# Plot it\n",
    "plt.plot(k, probs.T[0], 'r-', linewidth=3)\n",
    "[plt.plot(k, probs[:,x], 'k-', linewidth=x/2) for x in np.arange(1,5)]\n",
    "plt.show()"
   ]
  },
  {
   "cell_type": "markdown",
   "metadata": {
    "id": "u3i3DqGo_Z1b"
   },
   "source": [
    "## Exercise 3"
   ]
  },
  {
   "cell_type": "markdown",
   "metadata": {
    "id": "HHyvdAqI_cxk"
   },
   "source": [
    "### Questions"
   ]
  },
  {
   "cell_type": "markdown",
   "metadata": {
    "id": "8unlEp8u_iO7"
   },
   "source": [
    "Consider the row labeled \"MMSE\" in Table 2.\n",
    "\n",
    "1\\. The timing of the onset of symptoms according to MMSE (the Mini-Mental State Examination) is compared to how many different deficit onset times?\n",
    "\n",
    "2\\. In the first column, this comparison (MMSE vs onset) involves 8 people. If we assume a Null Hypothesis of p=0.5 (i.e., it is equally likely that a deficit on the MMSE or disease onset will occur first), what is the probability of obtaining either most extreme outcome (all 8 first show a deficit on the MMSE, or all 8 first are diagnosed with the disease)?\n",
    "\n",
    "3\\. In the second column, this comparison (MMSE vs RMT-W) involves 6 people. If we assume a Null Hypothesis of p=0.5, what is the probability of obtaining either most extreme outcome?\n",
    "\n",
    "4\\. What is the probability of obtaining any one of the most extreme outcomes associated with the first two columns? Hint: if A and B are independent (assume they are in this case), the probability of event A or event B happening is equal to one minus the probability that both did not happen.\n",
    "\n",
    "5\\. What is the probability of obtaining an extreme outcome in any of the comparisons with MMSE, assuming the Null Hypothesis in each case?\n",
    "\n",
    "6\\. What about for the bottom row?"
   ]
  },
  {
   "cell_type": "markdown",
   "metadata": {
    "id": "KZ7Gi6vM_vQs"
   },
   "source": [
    "### Answers"
   ]
  },
  {
   "cell_type": "code",
   "execution_count": null,
   "metadata": {
    "colab": {
     "base_uri": "https://localhost:8080/"
    },
    "executionInfo": {
     "elapsed": 182,
     "status": "ok",
     "timestamp": 1626384231252,
     "user": {
      "displayName": "Joshua Gold",
      "photoUrl": "https://lh3.googleusercontent.com/a-/AOh14GhY1fK-mWt81XFeafwTBs66lN9JXee76x713d4Y=s64",
      "userId": "06476168460066594437"
     },
     "user_tz": 240
    },
    "id": "PZX9YtvgAsde",
    "outputId": "1fde965c-d284-4d42-9006-def5652a0891"
   },
   "outputs": [
    {
     "name": "stdout",
     "output_type": "stream",
     "text": [
      "2. p=0.0080\n",
      "3. p=0.0313\n",
      "4. p=0.0388\n",
      "5. p=0.0832\n",
      "5. p=0.2820\n"
     ]
    }
   ],
   "source": [
    "# 1. 5 (the first five columns)\n",
    "\n",
    "# 2. This is the given p-value from above:\n",
    "print(f'2. p={probs[0,0]+probs[0,-1]:.4f}')\n",
    "\n",
    "# 3. p = 0.0313\n",
    "print(f'3. p={binom.pmf([0, 6], 6, 0.5).sum():.4f}')\n",
    "\n",
    "# 4. p = 1 - (no extreme in first comparison) * (no extreme in second comparison)\n",
    "#      = 0.0388\n",
    "p1 = binom.pmf([0, 8], 8, 0.5).sum()\n",
    "p2 = binom.pmf([0, 6], 6, 0.5).sum()\n",
    "print(f'4. p={1-(1-p1)*(1-p2):.4f}')\n",
    "\n",
    "# 5. p = 1 - prod(no extreme in each comparison)\n",
    "#      = 0.0832\n",
    "print(f'5. p={1-(1-binom.pmf(0, [8,6,7,7,7], 0.5)*2).prod():.4f}')\n",
    "\n",
    "# 6. p = 0.2820\n",
    "print(f'6. p={1-(1-binom.pmf(0, [14,14,12,14,13,11,10,8,6,3], 0.5)*2).prod():.4f}')"
   ]
  },
  {
   "cell_type": "markdown",
   "metadata": {
    "id": "n99Ee9jN_3ck"
   },
   "source": [
    "For question 6, perhaps you can see that there is a problem here: even under the Null Hypothesis that no event is likely to occur before any other, it becomes increasingly likely that by chance you'll get one of the comparisons to show up as an extreme case. This is the [multiple comparisons](https://colab.research.google.com/drive/1AmfvDhhfviRQFvONiUVUba_6hof8RDp6?usp=sharing) problem."
   ]
  },
  {
   "cell_type": "markdown",
   "metadata": {
    "id": "UqoNXyuxP-go"
   },
   "source": [
    "# Additional Resources\n"
   ]
  },
  {
   "cell_type": "markdown",
   "metadata": {
    "id": "clnBO4FU28El"
   },
   "source": [
    "TO DO\n",
    "\n"
   ]
  },
  {
   "cell_type": "markdown",
   "metadata": {
    "id": "tteEm2Qlgbb3"
   },
   "source": [
    "# Credits\n",
    "\n",
    "Copyright 2021 by Joshua I. Gold, University of Pennsylvania"
   ]
  }
 ],
 "metadata": {
  "colab": {
   "authorship_tag": "ABX9TyNRd6RknKlYbZfByr4rOreo",
   "collapsed_sections": [
    "5ULZKAuOBol4",
    "CHde_prQo0DC",
    "XEoDZS1ho13a",
    "UIxCKn4Qo62a",
    "DKV6za1NpZZi",
    "FXl0AkgTpcPa",
    "N8NeGTfLpeET",
    "u3i3DqGo_Z1b",
    "HHyvdAqI_cxk",
    "KZ7Gi6vM_vQs"
   ],
   "name": "Exact Binomial Test",
   "provenance": [
    {
     "file_id": "1OQwscqCNG7QpyTmKaWLafklOUVIcOkW7",
     "timestamp": 1626375176143
    },
    {
     "file_id": "11kgk7FpLgbSlA4pjS4cCH1B5mYDUgj5b",
     "timestamp": 1626372577818
    },
    {
     "file_id": "1dvkIh9KgmzwwJ7phFBxkHmS3nFTKN_yo",
     "timestamp": 1626368223618
    },
    {
     "file_id": "1AmfvDhhfviRQFvONiUVUba_6hof8RDp6",
     "timestamp": 1626367834690
    },
    {
     "file_id": "1wTKRgKK5eDUya7FZRHeu1RaoY7kuhiGi",
     "timestamp": 1626364730636
    },
    {
     "file_id": "1rdJMusMZDTaM9OGsyt27tCVkSasmRj2O",
     "timestamp": 1626357708093
    },
    {
     "file_id": "1HW0L_d5Wpod3jbnY3iG7mLhMG6yWHvF2",
     "timestamp": 1626350171621
    },
    {
     "file_id": "1-KxH3FCq5rDyyO33HXxewIv-kKldkINi",
     "timestamp": 1626290714843
    },
    {
     "file_id": "14S2ca44h8TKC1hFXjk5ktwBYpGU6R5S-",
     "timestamp": 1624411796822
    }
   ],
   "toc_visible": true
  },
  "kernelspec": {
   "display_name": "Python 3",
   "name": "python3"
  },
  "language_info": {
   "name": "python"
  }
 },
 "nbformat": 4,
 "nbformat_minor": 0
}
