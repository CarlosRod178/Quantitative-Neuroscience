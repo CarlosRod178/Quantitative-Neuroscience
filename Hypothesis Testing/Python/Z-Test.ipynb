{
 "cells": [
  {
   "cell_type": "markdown",
   "metadata": {},
   "source": [
    "[![Open In Colab](https://colab.research.google.com/assets/colab-badge.svg)](https://colab.research.google.com/github/PennNGG/Quantitative-Neuroscience/blob/master/Hypothesis%20Testing/Python/Z%2dTest.ipynb)"
   ]
  },
  {
   "cell_type": "markdown",
   "metadata": {
    "id": "pKIiY6p3GRFq"
   },
   "source": [
    "# Definitions"
   ]
  },
  {
   "cell_type": "markdown",
   "metadata": {
    "id": "x7VmLUr5GTNw"
   },
   "source": [
    "A z-test is any statistical test that is based on a null hypothesis that follows a [normal distribution](https://github.com/PennNGG/Quantitative-Neuroscience/blob/master/Probability%20Distributions/Python/Gaussian%20(Normal).ipynb), which is used to assess the probability of obtaining data expressed as a z-score. In principle, z-tests are intuitive and easy to use because there is a [one-to-one mapping between z-scores and p-values](https://z-table.com). In practice, however, z-tests are rarely used because they require knowing the true, population variance, which in most cases can only be estimated from the sample (thus giving rise to the [*t* distribution](https://github.com/PennNGG/Quantitative-Neuroscience/blob/master/Probability%20Distributions/Python/Student%20t.ipynb)).\n",
    "\n",
    "An example of a z-test that is more commonly used (because of the Central Limit Theorem) is [here](https://github.com/PennNGG/Quantitative-Neuroscience/blob/master/Hypothesis%20Testing/Python/Proportions.ipynb)."
   ]
  },
  {
   "cell_type": "markdown",
   "metadata": {
    "id": "UqoNXyuxP-go"
   },
   "source": [
    "# Additional Resources\n"
   ]
  },
  {
   "cell_type": "markdown",
   "metadata": {
    "id": "tteEm2Qlgbb3"
   },
   "source": [
    "# Credits\n",
    "\n",
    "Copyright 2021 by Joshua I. Gold, University of Pennsylvania"
   ]
  }
 ],
 "metadata": {
  "colab": {
   "authorship_tag": "ABX9TyMKiM9r3IsqzmKGc40O/C/z",
   "collapsed_sections": [
    "pmF7ZvxN7h9A",
    "-0EdvAmd8gNp",
    "To3hA26GKjv0",
    "k_iBh6ZsLnX7",
    "gNtYJCnrqZ2y"
   ],
   "name": "Z-Test",
   "provenance": [
    {
     "file_id": "1SiK_gIDfnQ5fUQl35ZhncTW8c9b23Shi",
     "timestamp": 1626651336754
    },
    {
     "file_id": "1M7xjaMwJUEyULPHfXc3tWG6-WVjCl-uQ",
     "timestamp": 1626633427962
    },
    {
     "file_id": "1zwg2aPHoOY9aUMG4h_sm2SNpvCJMKRnK",
     "timestamp": 1626385093682
    },
    {
     "file_id": "1OQwscqCNG7QpyTmKaWLafklOUVIcOkW7",
     "timestamp": 1626375176143
    },
    {
     "file_id": "11kgk7FpLgbSlA4pjS4cCH1B5mYDUgj5b",
     "timestamp": 1626372577818
    },
    {
     "file_id": "1dvkIh9KgmzwwJ7phFBxkHmS3nFTKN_yo",
     "timestamp": 1626368223618
    },
    {
     "file_id": "1AmfvDhhfviRQFvONiUVUba_6hof8RDp6",
     "timestamp": 1626367834690
    },
    {
     "file_id": "1wTKRgKK5eDUya7FZRHeu1RaoY7kuhiGi",
     "timestamp": 1626364730636
    },
    {
     "file_id": "1rdJMusMZDTaM9OGsyt27tCVkSasmRj2O",
     "timestamp": 1626357708093
    },
    {
     "file_id": "1HW0L_d5Wpod3jbnY3iG7mLhMG6yWHvF2",
     "timestamp": 1626350171621
    },
    {
     "file_id": "1-KxH3FCq5rDyyO33HXxewIv-kKldkINi",
     "timestamp": 1626290714843
    },
    {
     "file_id": "14S2ca44h8TKC1hFXjk5ktwBYpGU6R5S-",
     "timestamp": 1624411796822
    }
   ],
   "toc_visible": true
  },
  "kernelspec": {
   "display_name": "Python 3",
   "name": "python3"
  },
  "language_info": {
   "name": "python"
  }
 },
 "nbformat": 4,
 "nbformat_minor": 0
}
